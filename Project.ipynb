{
 "cells": [
  {
   "cell_type": "markdown",
   "id": "d01ea4ab",
   "metadata": {},
   "source": [
    "#### Answer1"
   ]
  },
  {
   "cell_type": "code",
   "execution_count": 82,
   "id": "19859e36",
   "metadata": {},
   "outputs": [],
   "source": [
    "import numpy as np\n",
    "import matplotlib.pyplot as plt\n",
    "import pandas as pd"
   ]
  },
  {
   "cell_type": "code",
   "execution_count": 83,
   "id": "50932c59",
   "metadata": {},
   "outputs": [
    {
     "data": {
      "text/html": [
       "<div>\n",
       "<style scoped>\n",
       "    .dataframe tbody tr th:only-of-type {\n",
       "        vertical-align: middle;\n",
       "    }\n",
       "\n",
       "    .dataframe tbody tr th {\n",
       "        vertical-align: top;\n",
       "    }\n",
       "\n",
       "    .dataframe thead th {\n",
       "        text-align: right;\n",
       "    }\n",
       "</style>\n",
       "<table border=\"1\" class=\"dataframe\">\n",
       "  <thead>\n",
       "    <tr style=\"text-align: right;\">\n",
       "      <th></th>\n",
       "      <th>Region</th>\n",
       "      <th>Age</th>\n",
       "      <th>Income</th>\n",
       "      <th>Online Shopper</th>\n",
       "    </tr>\n",
       "  </thead>\n",
       "  <tbody>\n",
       "    <tr>\n",
       "      <th>0</th>\n",
       "      <td>India</td>\n",
       "      <td>49.0</td>\n",
       "      <td>86400.0</td>\n",
       "      <td>No</td>\n",
       "    </tr>\n",
       "    <tr>\n",
       "      <th>1</th>\n",
       "      <td>Brazil</td>\n",
       "      <td>32.0</td>\n",
       "      <td>57600.0</td>\n",
       "      <td>Yes</td>\n",
       "    </tr>\n",
       "    <tr>\n",
       "      <th>2</th>\n",
       "      <td>USA</td>\n",
       "      <td>35.0</td>\n",
       "      <td>64800.0</td>\n",
       "      <td>No</td>\n",
       "    </tr>\n",
       "    <tr>\n",
       "      <th>3</th>\n",
       "      <td>Brazil</td>\n",
       "      <td>43.0</td>\n",
       "      <td>73200.0</td>\n",
       "      <td>No</td>\n",
       "    </tr>\n",
       "    <tr>\n",
       "      <th>4</th>\n",
       "      <td>USA</td>\n",
       "      <td>45.0</td>\n",
       "      <td>NaN</td>\n",
       "      <td>Yes</td>\n",
       "    </tr>\n",
       "  </tbody>\n",
       "</table>\n",
       "</div>"
      ],
      "text/plain": [
       "   Region   Age   Income Online Shopper\n",
       "0   India  49.0  86400.0             No\n",
       "1  Brazil  32.0  57600.0            Yes\n",
       "2     USA  35.0  64800.0             No\n",
       "3  Brazil  43.0  73200.0             No\n",
       "4     USA  45.0      NaN            Yes"
      ]
     },
     "execution_count": 83,
     "metadata": {},
     "output_type": "execute_result"
    }
   ],
   "source": [
    "#reading the dataset\n",
    "noisy = pd.read_csv(\"C:/Users/Surya/Desktop/SURYA GEORGIAN/AIDI 1002 AI programming/Assignment 1/noisy_data.csv\")\n",
    "noisy.head()"
   ]
  },
  {
   "cell_type": "code",
   "execution_count": 84,
   "id": "06fd0ebc",
   "metadata": {},
   "outputs": [
    {
     "data": {
      "text/plain": [
       "Region            0\n",
       "Age               1\n",
       "Income            1\n",
       "Online Shopper    0\n",
       "dtype: int64"
      ]
     },
     "execution_count": 84,
     "metadata": {},
     "output_type": "execute_result"
    }
   ],
   "source": [
    "#checking missing values\n",
    "noisy.isnull().sum()"
   ]
  },
  {
   "cell_type": "markdown",
   "id": "d020b3f3",
   "metadata": {},
   "source": [
    "* We can see that there is 1 missing value for Age and 1 missing value for Income"
   ]
  },
  {
   "cell_type": "markdown",
   "id": "c4272e7a",
   "metadata": {},
   "source": [
    "#### Handling missing values by Mean imputation "
   ]
  },
  {
   "cell_type": "code",
   "execution_count": 85,
   "id": "a3ef8346",
   "metadata": {},
   "outputs": [
    {
     "name": "stdout",
     "output_type": "stream",
     "text": [
      "   Region        Age        Income Online Shopper\n",
      "0   India  49.000000  86400.000000             No\n",
      "1  Brazil  32.000000  57600.000000            Yes\n",
      "2     USA  35.000000  64800.000000             No\n",
      "3  Brazil  43.000000  73200.000000             No\n",
      "4     USA  45.000000  76533.333333            Yes\n",
      "5   India  40.000000  69600.000000            Yes\n",
      "6  Brazil  43.777778  62400.000000             No\n",
      "7   India  53.000000  94800.000000            Yes\n",
      "8     USA  55.000000  99600.000000             No\n",
      "9   India  42.000000  80400.000000            Yes\n"
     ]
    }
   ],
   "source": [
    "from sklearn.impute import SimpleImputer\n",
    "imputa = SimpleImputer(missing_values = np.nan, strategy = 'mean')\n",
    "noisy.iloc[:, 1:3] = imputa.fit_transform(noisy.iloc[:, 1:3])\n",
    "\n",
    "print(noisy)"
   ]
  },
  {
   "cell_type": "markdown",
   "id": "a9dc2c3d",
   "metadata": {},
   "source": [
    "* we can see that missing value of Age and Income column are replaced by the mean value of that column"
   ]
  },
  {
   "cell_type": "markdown",
   "id": "50ebca17",
   "metadata": {},
   "source": [
    "### Shapiro-Wilk normality test"
   ]
  },
  {
   "cell_type": "markdown",
   "id": "4d80d80f",
   "metadata": {},
   "source": [
    "#### On age column"
   ]
  },
  {
   "cell_type": "code",
   "execution_count": 86,
   "id": "dd02f96a",
   "metadata": {},
   "outputs": [
    {
     "name": "stdout",
     "output_type": "stream",
     "text": [
      "Shapiro-Wilk test for normality on Age: stat=0.971, p=0.902\n"
     ]
    }
   ],
   "source": [
    "#h0(null hypothesis) = data is age column follows a normal distribuition\n",
    "#h1(Alternate hypothesis) = data is age column does not follow normal distribution\n",
    "\n",
    "from scipy.stats import shapiro\n",
    "age = noisy['Age']\n",
    "stat, p = shapiro(age)\n",
    "print(f'Shapiro-Wilk test for normality on Age: stat={stat:.3f}, p={p:.3f}')"
   ]
  },
  {
   "cell_type": "markdown",
   "id": "da4faf0e",
   "metadata": {},
   "source": [
    "* Here we see that our p value for Shapiro wilk test on age column is 0.902 which is greater than 0.05  i.e, p>0.05\n",
    "* if p>0.05 we fail to reject null hypothesis \n",
    "* which means, data in age column follows a normal distribuition."
   ]
  },
  {
   "cell_type": "markdown",
   "id": "036d7450",
   "metadata": {},
   "source": [
    "#### On Income column"
   ]
  },
  {
   "cell_type": "code",
   "execution_count": 87,
   "id": "2c2d83ea",
   "metadata": {},
   "outputs": [
    {
     "name": "stdout",
     "output_type": "stream",
     "text": [
      "Shapiro-Wilk test for normality on Income: stat=0.963, p=0.815\n"
     ]
    }
   ],
   "source": [
    "#h0(null hypothesis) = data is income column follows a normal distribuition\n",
    "#h1(Alternate hypothesis) = data is income column does not follow normal distribution\n",
    "\n",
    "from scipy.stats import shapiro\n",
    "income = noisy['Income']\n",
    "stat, p = shapiro(income)\n",
    "print(f'Shapiro-Wilk test for normality on Income: stat={stat:.3f}, p={p:.3f}')"
   ]
  },
  {
   "cell_type": "markdown",
   "id": "146e64f7",
   "metadata": {},
   "source": [
    "* Here we see that our p value for Shapiro wilk test on income column is 0.815 which is greater than 0.05  i.e, p>0.05\n",
    "* if p>0.05 we fail to reject null hypothesis \n",
    "* which means, data in income column follows a normal distribuition."
   ]
  },
  {
   "cell_type": "markdown",
   "id": "9d85f299",
   "metadata": {},
   "source": [
    "### Encoding for categorical variable and scaling of features"
   ]
  },
  {
   "cell_type": "code",
   "execution_count": 68,
   "id": "c8e70947",
   "metadata": {},
   "outputs": [],
   "source": [
    "# importing an array of features (first 3 columns of dataset)\n",
    "x = noisy.iloc[:, :-1].values \n",
    "# importing an array of dependent variable ( last column(Online shopper) of dataset)\n",
    "y = noisy.iloc[:, -1].values"
   ]
  },
  {
   "cell_type": "code",
   "execution_count": 69,
   "id": "bb3f5831",
   "metadata": {},
   "outputs": [],
   "source": [
    "# encoding Region column of dataset using one hot encoder\n",
    "from sklearn.compose import ColumnTransformer\n",
    "from sklearn.preprocessing import OneHotEncoder\n",
    "ct = ColumnTransformer(transformers=[('encoder', OneHotEncoder(), [0])], remainder= 'passthrough')\n",
    "x = np.array(ct.fit_transform(x))"
   ]
  },
  {
   "cell_type": "code",
   "execution_count": 70,
   "id": "f17bb68e",
   "metadata": {},
   "outputs": [
    {
     "data": {
      "text/plain": [
       "array([[0.0, 1.0, 0.0, 49.0, 86400.0],\n",
       "       [1.0, 0.0, 0.0, 32.0, 57600.0],\n",
       "       [0.0, 0.0, 1.0, 35.0, 64800.0],\n",
       "       [1.0, 0.0, 0.0, 43.0, 73200.0],\n",
       "       [0.0, 0.0, 1.0, 45.0, 76533.33333333333],\n",
       "       [0.0, 1.0, 0.0, 40.0, 69600.0],\n",
       "       [1.0, 0.0, 0.0, 43.77777777777778, 62400.0],\n",
       "       [0.0, 1.0, 0.0, 53.0, 94800.0],\n",
       "       [0.0, 0.0, 1.0, 55.0, 99600.0],\n",
       "       [0.0, 1.0, 0.0, 42.0, 80400.0]], dtype=object)"
      ]
     },
     "execution_count": 70,
     "metadata": {},
     "output_type": "execute_result"
    }
   ],
   "source": [
    "x"
   ]
  },
  {
   "cell_type": "code",
   "execution_count": 71,
   "id": "f54f885f",
   "metadata": {},
   "outputs": [],
   "source": [
    "#encoding online shopper column using label encoder\n",
    "from sklearn.preprocessing import LabelEncoder\n",
    "le = LabelEncoder()\n",
    "y = le.fit_transform(y)"
   ]
  },
  {
   "cell_type": "code",
   "execution_count": 72,
   "id": "189ec919",
   "metadata": {},
   "outputs": [
    {
     "data": {
      "text/plain": [
       "array([0, 1, 0, 0, 1, 1, 0, 1, 0, 1])"
      ]
     },
     "execution_count": 72,
     "metadata": {},
     "output_type": "execute_result"
    }
   ],
   "source": [
    "y"
   ]
  },
  {
   "cell_type": "code",
   "execution_count": 89,
   "id": "f66770b3",
   "metadata": {},
   "outputs": [
    {
     "name": "stdout",
     "output_type": "stream",
     "text": [
      "   Region        Age        Income Online Shopper\n",
      "0   India  49.000000  86400.000000             No\n",
      "1  Brazil  32.000000  57600.000000            Yes\n",
      "2     USA  35.000000  64800.000000             No\n",
      "3  Brazil  43.000000  73200.000000             No\n",
      "4     USA  45.000000  76533.333333            Yes\n",
      "5   India  40.000000  69600.000000            Yes\n",
      "6  Brazil  43.777778  62400.000000             No\n",
      "7   India  53.000000  94800.000000            Yes\n",
      "8     USA  55.000000  99600.000000             No\n",
      "9   India  42.000000  80400.000000            Yes\n"
     ]
    }
   ],
   "source": [
    "print(noisy)"
   ]
  },
  {
   "cell_type": "markdown",
   "id": "17850cc2",
   "metadata": {},
   "source": [
    "#### Scaling the features"
   ]
  },
  {
   "cell_type": "code",
   "execution_count": 90,
   "id": "e63d269a",
   "metadata": {},
   "outputs": [],
   "source": [
    "from sklearn.preprocessing import StandardScaler\n",
    "\n",
    "# columns to scale\n",
    "scale = ['Age', 'Income']\n",
    "\n",
    "# Initialize the StandardScaler\n",
    "scaler = StandardScaler()\n",
    "\n",
    "# Fit and transform the selected columns\n",
    "noisy[scale] = scaler.fit_transform(noisy[scale])"
   ]
  },
  {
   "cell_type": "code",
   "execution_count": 91,
   "id": "961970d5",
   "metadata": {},
   "outputs": [
    {
     "name": "stdout",
     "output_type": "stream",
     "text": [
      "   Region       Age    Income Online Shopper\n",
      "0   India  0.758874  0.749473             No\n",
      "1  Brazil -1.711504 -1.438178            Yes\n",
      "2     USA -1.275555 -0.891265             No\n",
      "3  Brazil -0.113024 -0.253200             No\n",
      "4     USA  0.177609  0.000000            Yes\n",
      "5   India -0.548973 -0.526657            Yes\n",
      "6  Brazil  0.000000 -1.073570             No\n",
      "7   India  1.340140  1.387538            Yes\n",
      "8     USA  1.630773  1.752147             No\n",
      "9   India -0.258340  0.293712            Yes\n"
     ]
    }
   ],
   "source": [
    "print(noisy)"
   ]
  },
  {
   "cell_type": "code",
   "execution_count": 95,
   "id": "e5ff4afa",
   "metadata": {},
   "outputs": [
    {
     "name": "stdout",
     "output_type": "stream",
     "text": [
      "Mean of Age column: -8.881784197001253e-17\n",
      "Standard Deviation of Age column: 1.0540925533894598\n",
      "Mean of Income column: 3.608224830031759e-16\n",
      "Standard Deviation of Income column: 1.0540925533894598\n"
     ]
    }
   ],
   "source": [
    "mean_age = noisy['Age'].mean()\n",
    "standard_deviation_age = noisy['Age'].std()\n",
    "\n",
    "mean_income = noisy['Income'].mean()\n",
    "standard_deviation_income = noisy['Income'].std()\n",
    "print(f\"Mean of Age column: {mean_age}\")\n",
    "print(f\"Standard Deviation of Age column: {standard_deviation_age}\")\n",
    "print(f\"Mean of Income column: {mean_income}\")\n",
    "print(f\"Standard Deviation of Income column: {standard_deviation_income}\")\n"
   ]
  },
  {
   "cell_type": "markdown",
   "id": "97a90a12",
   "metadata": {},
   "source": [
    "* we can see that our scaling worked as mean of each scaled column is closed to 0 and standard deviation is 1 "
   ]
  },
  {
   "cell_type": "markdown",
   "id": "907163d1",
   "metadata": {},
   "source": [
    "### Answer 2"
   ]
  },
  {
   "cell_type": "code",
   "execution_count": 103,
   "id": "ad922c59",
   "metadata": {},
   "outputs": [
    {
     "name": "stdout",
     "output_type": "stream",
     "text": [
      "Requirement already satisfied: nltk in c:\\users\\surya\\anaconda3\\lib\\site-packages (3.7)\n",
      "Requirement already satisfied: click in c:\\users\\surya\\anaconda3\\lib\\site-packages (from nltk) (8.0.4)\n",
      "Requirement already satisfied: regex>=2021.8.3 in c:\\users\\surya\\anaconda3\\lib\\site-packages (from nltk) (2022.7.9)\n",
      "Requirement already satisfied: joblib in c:\\users\\surya\\anaconda3\\lib\\site-packages (from nltk) (1.1.0)\n",
      "Requirement already satisfied: tqdm in c:\\users\\surya\\anaconda3\\lib\\site-packages (from nltk) (4.64.1)\n",
      "Requirement already satisfied: colorama in c:\\users\\surya\\anaconda3\\lib\\site-packages (from click->nltk) (0.4.5)\n"
     ]
    }
   ],
   "source": [
    "! pip install nltk\n",
    "import nltk\n",
    "from nltk.tokenize import RegexpTokenizer\n",
    "from nltk.tokenize import word_tokenize\n",
    "from nltk.corpus import stopwords\n",
    "from string import punctuation"
   ]
  },
  {
   "cell_type": "code",
   "execution_count": 104,
   "id": "8f0aa190",
   "metadata": {},
   "outputs": [
    {
     "name": "stdout",
     "output_type": "stream",
     "text": [
      "The history of NLP generally started in the 1950s, although work can be found from earlier periods. In 1950, Alan Turing published an article titled \"Computing Machinery and Intelligence\" which proposed what is now called the Turing test as a criterion of intelligence.\n",
      "\n",
      "The Georgetown experiment in 1954 involved fully automatic translation of more than sixty Russian sentences into English. The authors claimed that within three or five years, machine translation would be a solved problem.[2] However, real progress was much slower, and after the ALPAC report in 1966, which found that ten-year-long research had failed to fulfill the expectations, funding for machine translation was dramatically reduced. Little further research in machine translation was conducted until the late 1980s, when the first statistical machine translation systems were developed.\n",
      "\n",
      "Some notably successful NLP systems developed in the 1960s were SHRDLU, a natural-language system working in restricted \"blocks worlds\" with restricted vocabularies, and ELIZA, a simulation of a Rogerian psychotherapist, written by Joseph Weizenbaum between 1964 and 1966. Using almost no information about human thought or emotion, ELIZA sometimes provided a startlingly human-like interaction. When the \"patient\" exceeded the very small knowledge base, ELIZA might provide a generic response, for example, responding to \"My head hurts\" with \"Why do you say your head hurts?\".\n"
     ]
    }
   ],
   "source": [
    "with open(\"C:/Users/Surya/Desktop/SURYA GEORGIAN/AIDI 1002 AI programming/Assignment 1/wiki.txt\", \"r\") as text:\n",
    "    content = text.read()\n",
    "print(content)"
   ]
  },
  {
   "cell_type": "code",
   "execution_count": 109,
   "id": "79813630",
   "metadata": {},
   "outputs": [
    {
     "name": "stderr",
     "output_type": "stream",
     "text": [
      "[nltk_data] Downloading package punkt to\n",
      "[nltk_data]     C:\\Users\\Surya\\AppData\\Roaming\\nltk_data...\n",
      "[nltk_data]   Unzipping tokenizers\\punkt.zip.\n"
     ]
    },
    {
     "data": {
      "text/plain": [
       "True"
      ]
     },
     "execution_count": 109,
     "metadata": {},
     "output_type": "execute_result"
    }
   ],
   "source": [
    "nltk.download('punkt')\n"
   ]
  },
  {
   "cell_type": "code",
   "execution_count": 111,
   "id": "40462fe0",
   "metadata": {},
   "outputs": [
    {
     "name": "stderr",
     "output_type": "stream",
     "text": [
      "[nltk_data] Downloading package stopwords to\n",
      "[nltk_data]     C:\\Users\\Surya\\AppData\\Roaming\\nltk_data...\n",
      "[nltk_data]   Package stopwords is already up-to-date!\n"
     ]
    },
    {
     "data": {
      "text/plain": [
       "True"
      ]
     },
     "execution_count": 111,
     "metadata": {},
     "output_type": "execute_result"
    }
   ],
   "source": [
    "nltk.download(\"stopwords\")"
   ]
  },
  {
   "cell_type": "code",
   "execution_count": 138,
   "id": "551e8e7a",
   "metadata": {},
   "outputs": [],
   "source": [
    "#reading file\n",
    "with open(\"C:/Users/Surya/Desktop/SURYA GEORGIAN/AIDI 1002 AI programming/Assignment 1/wiki.txt\", \"r\") as file:\n",
    "    text = file.read()\n",
    "#defining stop words\n",
    "stop_words = set(stopwords.words('english'))\n",
    "\n",
    "#defining punctuation symobols \n",
    "punct = set(punctuation)\n",
    "punct.add(\"''\")\n",
    "punct.add(\"``\")\n",
    "\n"
   ]
  },
  {
   "cell_type": "code",
   "execution_count": 139,
   "id": "6bcf7c56",
   "metadata": {},
   "outputs": [
    {
     "name": "stdout",
     "output_type": "stream",
     "text": [
      "word_tokenize tokens:  ['history', 'NLP', 'generally', 'started', '1950s', 'although', 'work', 'found', 'earlier', 'periods', '1950', 'Alan', 'Turing', 'published', 'article', 'titled', 'Computing', 'Machinery', 'Intelligence', 'proposed', 'called', 'Turing', 'test', 'criterion', 'intelligence', 'Georgetown', 'experiment', '1954', 'involved', 'fully', 'automatic', 'translation', 'sixty', 'Russian', 'sentences', 'English', 'authors', 'claimed', 'within', 'three', 'five', 'years', 'machine', 'translation', 'would', 'solved', 'problem', '2', 'However', 'real', 'progress', 'much', 'slower', 'ALPAC', 'report', '1966', 'found', 'ten-year-long', 'research', 'failed', 'fulfill', 'expectations', 'funding', 'machine', 'translation', 'dramatically', 'reduced', 'Little', 'research', 'machine', 'translation', 'conducted', 'late', '1980s', 'first', 'statistical', 'machine', 'translation', 'systems', 'developed', 'notably', 'successful', 'NLP', 'systems', 'developed', '1960s', 'SHRDLU', 'natural-language', 'system', 'working', 'restricted', 'blocks', 'worlds', 'restricted', 'vocabularies', 'ELIZA', 'simulation', 'Rogerian', 'psychotherapist', 'written', 'Joseph', 'Weizenbaum', '1964', '1966', 'Using', 'almost', 'information', 'human', 'thought', 'emotion', 'ELIZA', 'sometimes', 'provided', 'startlingly', 'human-like', 'interaction', 'patient', 'exceeded', 'small', 'knowledge', 'base', 'ELIZA', 'might', 'provide', 'generic', 'response', 'example', 'responding', 'head', 'hurts', 'say', 'head', 'hurts']\n"
     ]
    }
   ],
   "source": [
    "# word_tokenize\n",
    "tokens_word = word_tokenize(text)\n",
    "tokens_word = [word for word in tokens_word if word.lower() not in stop_words and word not in punct]\n",
    "\n",
    "print(\"word_tokenize tokens: \", tokens_word)\n"
   ]
  },
  {
   "cell_type": "code",
   "execution_count": 140,
   "id": "e8aa05f0",
   "metadata": {},
   "outputs": [
    {
     "name": "stdout",
     "output_type": "stream",
     "text": [
      "RegexpTokenizer tokens:  ['history', 'NLP', 'generally', 'started', '1950s', 'although', 'work', 'found', 'earlier', 'periods', '1950', 'Alan', 'Turing', 'published', 'article', 'titled', 'Computing', 'Machinery', 'Intelligence', 'proposed', 'called', 'Turing', 'test', 'criterion', 'intelligence', 'Georgetown', 'experiment', '1954', 'involved', 'fully', 'automatic', 'translation', 'sixty', 'Russian', 'sentences', 'English', 'authors', 'claimed', 'within', 'three', 'five', 'years', 'machine', 'translation', 'would', 'solved', 'problem', '2', 'However', 'real', 'progress', 'much', 'slower', 'ALPAC', 'report', '1966', 'found', 'ten', 'year', 'long', 'research', 'failed', 'fulfill', 'expectations', 'funding', 'machine', 'translation', 'dramatically', 'reduced', 'Little', 'research', 'machine', 'translation', 'conducted', 'late', '1980s', 'first', 'statistical', 'machine', 'translation', 'systems', 'developed', 'notably', 'successful', 'NLP', 'systems', 'developed', '1960s', 'SHRDLU', 'natural', 'language', 'system', 'working', 'restricted', 'blocks', 'worlds', 'restricted', 'vocabularies', 'ELIZA', 'simulation', 'Rogerian', 'psychotherapist', 'written', 'Joseph', 'Weizenbaum', '1964', '1966', 'Using', 'almost', 'information', 'human', 'thought', 'emotion', 'ELIZA', 'sometimes', 'provided', 'startlingly', 'human', 'like', 'interaction', 'patient', 'exceeded', 'small', 'knowledge', 'base', 'ELIZA', 'might', 'provide', 'generic', 'response', 'example', 'responding', 'head', 'hurts', 'say', 'head', 'hurts']\n"
     ]
    }
   ],
   "source": [
    "# RegexpTokenizer\n",
    "tokenizer = RegexpTokenizer(r'\\w+')\n",
    "tokens_regexp = tokenizer.tokenize(text)\n",
    "tokens_regexp = [word for word in tokens_regexp if word.lower() not in stop_words and word not in punct]\n",
    "\n",
    "print(\"RegexpTokenizer tokens: \", tokens_regexp)"
   ]
  },
  {
   "cell_type": "markdown",
   "id": "f8f0eb06",
   "metadata": {},
   "source": [
    "#### Extracting years\n"
   ]
  },
  {
   "cell_type": "code",
   "execution_count": 128,
   "id": "6b60963c",
   "metadata": {},
   "outputs": [],
   "source": [
    "import re"
   ]
  },
  {
   "cell_type": "code",
   "execution_count": 130,
   "id": "7f79554f",
   "metadata": {},
   "outputs": [
    {
     "name": "stdout",
     "output_type": "stream",
     "text": [
      "['1950', '1954', '1966', '1964', '1966']\n"
     ]
    }
   ],
   "source": [
    "def yearext (text):\n",
    "    pattern = r'\\b\\d{4}\\b'\n",
    "    years = re.findall(pattern,text)\n",
    "    return years\n",
    "\n",
    "print (yearext(text))"
   ]
  },
  {
   "cell_type": "markdown",
   "id": "8b3d5c56",
   "metadata": {},
   "source": [
    "#### Difference between output of tokenization methods"
   ]
  },
  {
   "cell_type": "code",
   "execution_count": 141,
   "id": "88e22f72",
   "metadata": {},
   "outputs": [
    {
     "name": "stdout",
     "output_type": "stream",
     "text": [
      "133\n"
     ]
    }
   ],
   "source": [
    "#number of tokens in word_tokenize\n",
    "num_of_tokens1 = len(tokens_word)\n",
    "print(num_of_tokens1)"
   ]
  },
  {
   "cell_type": "code",
   "execution_count": 142,
   "id": "1b527242",
   "metadata": {},
   "outputs": [
    {
     "name": "stdout",
     "output_type": "stream",
     "text": [
      "137\n"
     ]
    }
   ],
   "source": [
    "#number of tokens in regexptokenizer\n",
    "num_of_tokens2 = len(tokens_regexp)\n",
    "print(num_of_tokens2)"
   ]
  },
  {
   "cell_type": "markdown",
   "id": "13308e79",
   "metadata": {},
   "source": [
    "* we can see that number of tokens generated by word_tokenize are 133 while tokens generated by regexptokenizer are 137. Regexptokenizer generated 4 more tokens"
   ]
  },
  {
   "cell_type": "code",
   "execution_count": 137,
   "id": "195b83b5",
   "metadata": {},
   "outputs": [
    {
     "name": "stdout",
     "output_type": "stream",
     "text": [
      "Difference: {'human-like', 'natural-language', 'ten-year-long'}\n"
     ]
    }
   ],
   "source": [
    "#checking the difference\n",
    "diff = set(tokens_word) - set(tokens_regexp)\n",
    "print(\"Difference:\", diff)"
   ]
  },
  {
   "cell_type": "markdown",
   "id": "a81272a4",
   "metadata": {},
   "source": [
    "* we can observe that tokens_word generated these as a single single tokens while regex tokenizer geneared them as individual tokens by breaking them down as human, like, natural, language, ten, year, long"
   ]
  },
  {
   "cell_type": "markdown",
   "id": "8b6de01f",
   "metadata": {},
   "source": [
    "### Question 3\n"
   ]
  },
  {
   "cell_type": "code",
   "execution_count": 180,
   "id": "67c024f5",
   "metadata": {},
   "outputs": [
    {
     "data": {
      "text/html": [
       "<div>\n",
       "<style scoped>\n",
       "    .dataframe tbody tr th:only-of-type {\n",
       "        vertical-align: middle;\n",
       "    }\n",
       "\n",
       "    .dataframe tbody tr th {\n",
       "        vertical-align: top;\n",
       "    }\n",
       "\n",
       "    .dataframe thead th {\n",
       "        text-align: right;\n",
       "    }\n",
       "</style>\n",
       "<table border=\"1\" class=\"dataframe\">\n",
       "  <thead>\n",
       "    <tr style=\"text-align: right;\">\n",
       "      <th></th>\n",
       "      <th>Suburb</th>\n",
       "      <th>Address</th>\n",
       "      <th>Rooms</th>\n",
       "      <th>Type</th>\n",
       "      <th>Price</th>\n",
       "      <th>Method</th>\n",
       "      <th>SellerG</th>\n",
       "      <th>Date</th>\n",
       "      <th>Distance</th>\n",
       "      <th>Postcode</th>\n",
       "      <th>...</th>\n",
       "      <th>Bathroom</th>\n",
       "      <th>Car</th>\n",
       "      <th>Landsize</th>\n",
       "      <th>BuildingArea</th>\n",
       "      <th>YearBuilt</th>\n",
       "      <th>CouncilArea</th>\n",
       "      <th>Lattitude</th>\n",
       "      <th>Longtitude</th>\n",
       "      <th>Regionname</th>\n",
       "      <th>Propertycount</th>\n",
       "    </tr>\n",
       "  </thead>\n",
       "  <tbody>\n",
       "    <tr>\n",
       "      <th>0</th>\n",
       "      <td>Abbotsford</td>\n",
       "      <td>85 Turner St</td>\n",
       "      <td>2</td>\n",
       "      <td>h</td>\n",
       "      <td>1480000.0</td>\n",
       "      <td>S</td>\n",
       "      <td>Biggin</td>\n",
       "      <td>3/12/2016</td>\n",
       "      <td>2.5</td>\n",
       "      <td>3067.0</td>\n",
       "      <td>...</td>\n",
       "      <td>1.0</td>\n",
       "      <td>1.0</td>\n",
       "      <td>202.0</td>\n",
       "      <td>NaN</td>\n",
       "      <td>NaN</td>\n",
       "      <td>Yarra</td>\n",
       "      <td>-37.7996</td>\n",
       "      <td>144.9984</td>\n",
       "      <td>Northern Metropolitan</td>\n",
       "      <td>4019.0</td>\n",
       "    </tr>\n",
       "    <tr>\n",
       "      <th>1</th>\n",
       "      <td>Abbotsford</td>\n",
       "      <td>25 Bloomburg St</td>\n",
       "      <td>2</td>\n",
       "      <td>h</td>\n",
       "      <td>1035000.0</td>\n",
       "      <td>S</td>\n",
       "      <td>Biggin</td>\n",
       "      <td>4/02/2016</td>\n",
       "      <td>2.5</td>\n",
       "      <td>3067.0</td>\n",
       "      <td>...</td>\n",
       "      <td>1.0</td>\n",
       "      <td>0.0</td>\n",
       "      <td>156.0</td>\n",
       "      <td>79.0</td>\n",
       "      <td>1900.0</td>\n",
       "      <td>Yarra</td>\n",
       "      <td>-37.8079</td>\n",
       "      <td>144.9934</td>\n",
       "      <td>Northern Metropolitan</td>\n",
       "      <td>4019.0</td>\n",
       "    </tr>\n",
       "    <tr>\n",
       "      <th>2</th>\n",
       "      <td>Abbotsford</td>\n",
       "      <td>5 Charles St</td>\n",
       "      <td>3</td>\n",
       "      <td>h</td>\n",
       "      <td>1465000.0</td>\n",
       "      <td>SP</td>\n",
       "      <td>Biggin</td>\n",
       "      <td>4/03/2017</td>\n",
       "      <td>2.5</td>\n",
       "      <td>3067.0</td>\n",
       "      <td>...</td>\n",
       "      <td>2.0</td>\n",
       "      <td>0.0</td>\n",
       "      <td>134.0</td>\n",
       "      <td>150.0</td>\n",
       "      <td>1900.0</td>\n",
       "      <td>Yarra</td>\n",
       "      <td>-37.8093</td>\n",
       "      <td>144.9944</td>\n",
       "      <td>Northern Metropolitan</td>\n",
       "      <td>4019.0</td>\n",
       "    </tr>\n",
       "    <tr>\n",
       "      <th>3</th>\n",
       "      <td>Abbotsford</td>\n",
       "      <td>40 Federation La</td>\n",
       "      <td>3</td>\n",
       "      <td>h</td>\n",
       "      <td>850000.0</td>\n",
       "      <td>PI</td>\n",
       "      <td>Biggin</td>\n",
       "      <td>4/03/2017</td>\n",
       "      <td>2.5</td>\n",
       "      <td>3067.0</td>\n",
       "      <td>...</td>\n",
       "      <td>2.0</td>\n",
       "      <td>1.0</td>\n",
       "      <td>94.0</td>\n",
       "      <td>NaN</td>\n",
       "      <td>NaN</td>\n",
       "      <td>Yarra</td>\n",
       "      <td>-37.7969</td>\n",
       "      <td>144.9969</td>\n",
       "      <td>Northern Metropolitan</td>\n",
       "      <td>4019.0</td>\n",
       "    </tr>\n",
       "    <tr>\n",
       "      <th>4</th>\n",
       "      <td>Abbotsford</td>\n",
       "      <td>55a Park St</td>\n",
       "      <td>4</td>\n",
       "      <td>h</td>\n",
       "      <td>1600000.0</td>\n",
       "      <td>VB</td>\n",
       "      <td>Nelson</td>\n",
       "      <td>4/06/2016</td>\n",
       "      <td>2.5</td>\n",
       "      <td>3067.0</td>\n",
       "      <td>...</td>\n",
       "      <td>1.0</td>\n",
       "      <td>2.0</td>\n",
       "      <td>120.0</td>\n",
       "      <td>142.0</td>\n",
       "      <td>2014.0</td>\n",
       "      <td>Yarra</td>\n",
       "      <td>-37.8072</td>\n",
       "      <td>144.9941</td>\n",
       "      <td>Northern Metropolitan</td>\n",
       "      <td>4019.0</td>\n",
       "    </tr>\n",
       "  </tbody>\n",
       "</table>\n",
       "<p>5 rows × 21 columns</p>\n",
       "</div>"
      ],
      "text/plain": [
       "       Suburb           Address  Rooms Type      Price Method SellerG  \\\n",
       "0  Abbotsford      85 Turner St      2    h  1480000.0      S  Biggin   \n",
       "1  Abbotsford   25 Bloomburg St      2    h  1035000.0      S  Biggin   \n",
       "2  Abbotsford      5 Charles St      3    h  1465000.0     SP  Biggin   \n",
       "3  Abbotsford  40 Federation La      3    h   850000.0     PI  Biggin   \n",
       "4  Abbotsford       55a Park St      4    h  1600000.0     VB  Nelson   \n",
       "\n",
       "        Date  Distance  Postcode  ...  Bathroom  Car  Landsize  BuildingArea  \\\n",
       "0  3/12/2016       2.5    3067.0  ...       1.0  1.0     202.0           NaN   \n",
       "1  4/02/2016       2.5    3067.0  ...       1.0  0.0     156.0          79.0   \n",
       "2  4/03/2017       2.5    3067.0  ...       2.0  0.0     134.0         150.0   \n",
       "3  4/03/2017       2.5    3067.0  ...       2.0  1.0      94.0           NaN   \n",
       "4  4/06/2016       2.5    3067.0  ...       1.0  2.0     120.0         142.0   \n",
       "\n",
       "   YearBuilt  CouncilArea Lattitude  Longtitude             Regionname  \\\n",
       "0        NaN        Yarra  -37.7996    144.9984  Northern Metropolitan   \n",
       "1     1900.0        Yarra  -37.8079    144.9934  Northern Metropolitan   \n",
       "2     1900.0        Yarra  -37.8093    144.9944  Northern Metropolitan   \n",
       "3        NaN        Yarra  -37.7969    144.9969  Northern Metropolitan   \n",
       "4     2014.0        Yarra  -37.8072    144.9941  Northern Metropolitan   \n",
       "\n",
       "  Propertycount  \n",
       "0        4019.0  \n",
       "1        4019.0  \n",
       "2        4019.0  \n",
       "3        4019.0  \n",
       "4        4019.0  \n",
       "\n",
       "[5 rows x 21 columns]"
      ]
     },
     "execution_count": 180,
     "metadata": {},
     "output_type": "execute_result"
    }
   ],
   "source": [
    "#reading the dataset\n",
    "df = pd.read_csv(\"C:/Users/Surya/Desktop/SURYA GEORGIAN/AIDI 1002 AI programming/Assignment 1/archive/melb_data.csv\")\n",
    "df.head()"
   ]
  },
  {
   "cell_type": "code",
   "execution_count": 179,
   "id": "972ed733",
   "metadata": {},
   "outputs": [
    {
     "data": {
      "text/plain": [
       "Suburb           0\n",
       "Address          0\n",
       "Rooms            0\n",
       "Type             0\n",
       "Price            0\n",
       "Method           0\n",
       "SellerG          0\n",
       "Date             0\n",
       "Distance         0\n",
       "Postcode         0\n",
       "Bedroom2         0\n",
       "Bathroom         0\n",
       "Car              0\n",
       "Landsize         0\n",
       "BuildingArea     0\n",
       "YearBuilt        0\n",
       "CouncilArea      0\n",
       "Longtitude       0\n",
       "Regionname       0\n",
       "Propertycount    0\n",
       "dtype: int64"
      ]
     },
     "execution_count": 179,
     "metadata": {},
     "output_type": "execute_result"
    }
   ],
   "source": [
    "#check for missing value \n",
    "df.isnull().sum()"
   ]
  },
  {
   "cell_type": "code",
   "execution_count": 181,
   "id": "12587e32",
   "metadata": {},
   "outputs": [
    {
     "name": "stdout",
     "output_type": "stream",
     "text": [
      "<class 'pandas.core.frame.DataFrame'>\n",
      "RangeIndex: 13580 entries, 0 to 13579\n",
      "Data columns (total 21 columns):\n",
      " #   Column         Non-Null Count  Dtype  \n",
      "---  ------         --------------  -----  \n",
      " 0   Suburb         13580 non-null  object \n",
      " 1   Address        13580 non-null  object \n",
      " 2   Rooms          13580 non-null  int64  \n",
      " 3   Type           13580 non-null  object \n",
      " 4   Price          13580 non-null  float64\n",
      " 5   Method         13580 non-null  object \n",
      " 6   SellerG        13580 non-null  object \n",
      " 7   Date           13580 non-null  object \n",
      " 8   Distance       13580 non-null  float64\n",
      " 9   Postcode       13580 non-null  float64\n",
      " 10  Bedroom2       13580 non-null  float64\n",
      " 11  Bathroom       13580 non-null  float64\n",
      " 12  Car            13518 non-null  float64\n",
      " 13  Landsize       13580 non-null  float64\n",
      " 14  BuildingArea   7130 non-null   float64\n",
      " 15  YearBuilt      8205 non-null   float64\n",
      " 16  CouncilArea    12211 non-null  object \n",
      " 17  Lattitude      13580 non-null  float64\n",
      " 18  Longtitude     13580 non-null  float64\n",
      " 19  Regionname     13580 non-null  object \n",
      " 20  Propertycount  13580 non-null  float64\n",
      "dtypes: float64(12), int64(1), object(8)\n",
      "memory usage: 2.2+ MB\n"
     ]
    }
   ],
   "source": [
    "df.info()"
   ]
  },
  {
   "cell_type": "code",
   "execution_count": 182,
   "id": "d7a92879",
   "metadata": {},
   "outputs": [
    {
     "name": "stdout",
     "output_type": "stream",
     "text": [
      "['Rooms', 'Price', 'Distance', 'Postcode', 'Bedroom2', 'Bathroom', 'Car', 'Landsize', 'BuildingArea', 'YearBuilt', 'Lattitude', 'Longtitude', 'Propertycount']\n"
     ]
    }
   ],
   "source": [
    "#getting numerical columns\n",
    "numerical_cols = list(df.dtypes[df.dtypes != 'object'].index)\n",
    "print(numerical_cols)\n"
   ]
  },
  {
   "cell_type": "code",
   "execution_count": 183,
   "id": "cf145a25",
   "metadata": {},
   "outputs": [
    {
     "data": {
      "text/plain": [
       "Rooms               0\n",
       "Price               0\n",
       "Distance            0\n",
       "Postcode            0\n",
       "Bedroom2            0\n",
       "Bathroom            0\n",
       "Car                62\n",
       "Landsize            0\n",
       "BuildingArea     6450\n",
       "YearBuilt        5375\n",
       "Lattitude           0\n",
       "Longtitude          0\n",
       "Propertycount       0\n",
       "dtype: int64"
      ]
     },
     "execution_count": 183,
     "metadata": {},
     "output_type": "execute_result"
    }
   ],
   "source": [
    "#missing value in numerical columns\n",
    "df[numerical_cols].isna().sum()"
   ]
  },
  {
   "cell_type": "code",
   "execution_count": 184,
   "id": "4b906876",
   "metadata": {},
   "outputs": [
    {
     "data": {
      "text/plain": [
       "Rooms            0\n",
       "Price            0\n",
       "Distance         0\n",
       "Postcode         0\n",
       "Bedroom2         0\n",
       "Bathroom         0\n",
       "Car              0\n",
       "Landsize         0\n",
       "BuildingArea     0\n",
       "YearBuilt        0\n",
       "Lattitude        0\n",
       "Longtitude       0\n",
       "Propertycount    0\n",
       "dtype: int64"
      ]
     },
     "execution_count": 184,
     "metadata": {},
     "output_type": "execute_result"
    }
   ],
   "source": [
    "#imputing missing value with means\n",
    "df[numerical_cols] = df[numerical_cols].fillna(df[numerical_cols].mean())\n",
    "df[numerical_cols].isna().sum()"
   ]
  },
  {
   "cell_type": "code",
   "execution_count": 185,
   "id": "1b4b7323",
   "metadata": {},
   "outputs": [
    {
     "name": "stdout",
     "output_type": "stream",
     "text": [
      "['Suburb', 'Address', 'Type', 'Method', 'SellerG', 'Date', 'CouncilArea', 'Regionname']\n"
     ]
    }
   ],
   "source": [
    "#finding categorical columns\n",
    "categorical_cols = list(df.dtypes[df.dtypes == 'object'].index)\n",
    "print(categorical_cols)"
   ]
  },
  {
   "cell_type": "code",
   "execution_count": 186,
   "id": "4a55b0fd",
   "metadata": {},
   "outputs": [
    {
     "data": {
      "text/plain": [
       "Suburb            0\n",
       "Address           0\n",
       "Type              0\n",
       "Method            0\n",
       "SellerG           0\n",
       "Date              0\n",
       "CouncilArea    1369\n",
       "Regionname        0\n",
       "dtype: int64"
      ]
     },
     "execution_count": 186,
     "metadata": {},
     "output_type": "execute_result"
    }
   ],
   "source": [
    "#finding missing values\n",
    "df[categorical_cols].isna().sum()"
   ]
  },
  {
   "cell_type": "code",
   "execution_count": 187,
   "id": "e92c40f1",
   "metadata": {},
   "outputs": [
    {
     "data": {
      "text/plain": [
       "Suburb         0\n",
       "Address        0\n",
       "Type           0\n",
       "Method         0\n",
       "SellerG        0\n",
       "Date           0\n",
       "CouncilArea    0\n",
       "Regionname     0\n",
       "dtype: int64"
      ]
     },
     "execution_count": 187,
     "metadata": {},
     "output_type": "execute_result"
    }
   ],
   "source": [
    "#imputing those values with mode\n",
    "df[categorical_cols] = df[categorical_cols].fillna(df[categorical_cols].mode().iloc[0])\n",
    "df[categorical_cols].isna().sum()"
   ]
  },
  {
   "cell_type": "code",
   "execution_count": 188,
   "id": "79dc42d4",
   "metadata": {},
   "outputs": [
    {
     "data": {
      "text/html": [
       "<div>\n",
       "<style scoped>\n",
       "    .dataframe tbody tr th:only-of-type {\n",
       "        vertical-align: middle;\n",
       "    }\n",
       "\n",
       "    .dataframe tbody tr th {\n",
       "        vertical-align: top;\n",
       "    }\n",
       "\n",
       "    .dataframe thead th {\n",
       "        text-align: right;\n",
       "    }\n",
       "</style>\n",
       "<table border=\"1\" class=\"dataframe\">\n",
       "  <thead>\n",
       "    <tr style=\"text-align: right;\">\n",
       "      <th></th>\n",
       "      <th>Suburb</th>\n",
       "      <th>Address</th>\n",
       "      <th>Rooms</th>\n",
       "      <th>Type</th>\n",
       "      <th>Price</th>\n",
       "      <th>Method</th>\n",
       "      <th>SellerG</th>\n",
       "      <th>Date</th>\n",
       "      <th>Distance</th>\n",
       "      <th>Postcode</th>\n",
       "      <th>...</th>\n",
       "      <th>Bathroom</th>\n",
       "      <th>Car</th>\n",
       "      <th>Landsize</th>\n",
       "      <th>BuildingArea</th>\n",
       "      <th>YearBuilt</th>\n",
       "      <th>CouncilArea</th>\n",
       "      <th>Lattitude</th>\n",
       "      <th>Longtitude</th>\n",
       "      <th>Regionname</th>\n",
       "      <th>Propertycount</th>\n",
       "    </tr>\n",
       "  </thead>\n",
       "  <tbody>\n",
       "    <tr>\n",
       "      <th>0</th>\n",
       "      <td>0.0</td>\n",
       "      <td>12794.0</td>\n",
       "      <td>2</td>\n",
       "      <td>0.0</td>\n",
       "      <td>1480000.0</td>\n",
       "      <td>1.0</td>\n",
       "      <td>23.0</td>\n",
       "      <td>45.0</td>\n",
       "      <td>2.5</td>\n",
       "      <td>3067.0</td>\n",
       "      <td>...</td>\n",
       "      <td>1.0</td>\n",
       "      <td>1.0</td>\n",
       "      <td>202.0</td>\n",
       "      <td>151.96765</td>\n",
       "      <td>1964.684217</td>\n",
       "      <td>31.0</td>\n",
       "      <td>-37.79960</td>\n",
       "      <td>144.99840</td>\n",
       "      <td>2.0</td>\n",
       "      <td>4019.0</td>\n",
       "    </tr>\n",
       "    <tr>\n",
       "      <th>1</th>\n",
       "      <td>0.0</td>\n",
       "      <td>5943.0</td>\n",
       "      <td>2</td>\n",
       "      <td>0.0</td>\n",
       "      <td>1035000.0</td>\n",
       "      <td>1.0</td>\n",
       "      <td>23.0</td>\n",
       "      <td>47.0</td>\n",
       "      <td>2.5</td>\n",
       "      <td>3067.0</td>\n",
       "      <td>...</td>\n",
       "      <td>1.0</td>\n",
       "      <td>0.0</td>\n",
       "      <td>156.0</td>\n",
       "      <td>79.00000</td>\n",
       "      <td>1900.000000</td>\n",
       "      <td>31.0</td>\n",
       "      <td>-37.80790</td>\n",
       "      <td>144.99340</td>\n",
       "      <td>2.0</td>\n",
       "      <td>4019.0</td>\n",
       "    </tr>\n",
       "    <tr>\n",
       "      <th>2</th>\n",
       "      <td>0.0</td>\n",
       "      <td>9814.0</td>\n",
       "      <td>3</td>\n",
       "      <td>0.0</td>\n",
       "      <td>1465000.0</td>\n",
       "      <td>3.0</td>\n",
       "      <td>23.0</td>\n",
       "      <td>48.0</td>\n",
       "      <td>2.5</td>\n",
       "      <td>3067.0</td>\n",
       "      <td>...</td>\n",
       "      <td>2.0</td>\n",
       "      <td>0.0</td>\n",
       "      <td>134.0</td>\n",
       "      <td>150.00000</td>\n",
       "      <td>1900.000000</td>\n",
       "      <td>31.0</td>\n",
       "      <td>-37.80930</td>\n",
       "      <td>144.99440</td>\n",
       "      <td>2.0</td>\n",
       "      <td>4019.0</td>\n",
       "    </tr>\n",
       "    <tr>\n",
       "      <th>3</th>\n",
       "      <td>0.0</td>\n",
       "      <td>9004.0</td>\n",
       "      <td>3</td>\n",
       "      <td>0.0</td>\n",
       "      <td>850000.0</td>\n",
       "      <td>0.0</td>\n",
       "      <td>23.0</td>\n",
       "      <td>48.0</td>\n",
       "      <td>2.5</td>\n",
       "      <td>3067.0</td>\n",
       "      <td>...</td>\n",
       "      <td>2.0</td>\n",
       "      <td>1.0</td>\n",
       "      <td>94.0</td>\n",
       "      <td>151.96765</td>\n",
       "      <td>1964.684217</td>\n",
       "      <td>31.0</td>\n",
       "      <td>-37.79690</td>\n",
       "      <td>144.99690</td>\n",
       "      <td>2.0</td>\n",
       "      <td>4019.0</td>\n",
       "    </tr>\n",
       "    <tr>\n",
       "      <th>4</th>\n",
       "      <td>0.0</td>\n",
       "      <td>10589.0</td>\n",
       "      <td>4</td>\n",
       "      <td>0.0</td>\n",
       "      <td>1600000.0</td>\n",
       "      <td>4.0</td>\n",
       "      <td>155.0</td>\n",
       "      <td>49.0</td>\n",
       "      <td>2.5</td>\n",
       "      <td>3067.0</td>\n",
       "      <td>...</td>\n",
       "      <td>1.0</td>\n",
       "      <td>2.0</td>\n",
       "      <td>120.0</td>\n",
       "      <td>142.00000</td>\n",
       "      <td>2014.000000</td>\n",
       "      <td>31.0</td>\n",
       "      <td>-37.80720</td>\n",
       "      <td>144.99410</td>\n",
       "      <td>2.0</td>\n",
       "      <td>4019.0</td>\n",
       "    </tr>\n",
       "    <tr>\n",
       "      <th>...</th>\n",
       "      <td>...</td>\n",
       "      <td>...</td>\n",
       "      <td>...</td>\n",
       "      <td>...</td>\n",
       "      <td>...</td>\n",
       "      <td>...</td>\n",
       "      <td>...</td>\n",
       "      <td>...</td>\n",
       "      <td>...</td>\n",
       "      <td>...</td>\n",
       "      <td>...</td>\n",
       "      <td>...</td>\n",
       "      <td>...</td>\n",
       "      <td>...</td>\n",
       "      <td>...</td>\n",
       "      <td>...</td>\n",
       "      <td>...</td>\n",
       "      <td>...</td>\n",
       "      <td>...</td>\n",
       "      <td>...</td>\n",
       "      <td>...</td>\n",
       "    </tr>\n",
       "    <tr>\n",
       "      <th>13575</th>\n",
       "      <td>302.0</td>\n",
       "      <td>1991.0</td>\n",
       "      <td>4</td>\n",
       "      <td>0.0</td>\n",
       "      <td>1245000.0</td>\n",
       "      <td>1.0</td>\n",
       "      <td>16.0</td>\n",
       "      <td>33.0</td>\n",
       "      <td>16.7</td>\n",
       "      <td>3150.0</td>\n",
       "      <td>...</td>\n",
       "      <td>2.0</td>\n",
       "      <td>2.0</td>\n",
       "      <td>652.0</td>\n",
       "      <td>151.96765</td>\n",
       "      <td>1981.000000</td>\n",
       "      <td>23.0</td>\n",
       "      <td>-37.90562</td>\n",
       "      <td>145.16761</td>\n",
       "      <td>4.0</td>\n",
       "      <td>7392.0</td>\n",
       "    </tr>\n",
       "    <tr>\n",
       "      <th>13576</th>\n",
       "      <td>305.0</td>\n",
       "      <td>12234.0</td>\n",
       "      <td>3</td>\n",
       "      <td>0.0</td>\n",
       "      <td>1031000.0</td>\n",
       "      <td>3.0</td>\n",
       "      <td>251.0</td>\n",
       "      <td>33.0</td>\n",
       "      <td>6.8</td>\n",
       "      <td>3016.0</td>\n",
       "      <td>...</td>\n",
       "      <td>2.0</td>\n",
       "      <td>2.0</td>\n",
       "      <td>333.0</td>\n",
       "      <td>133.00000</td>\n",
       "      <td>1995.000000</td>\n",
       "      <td>23.0</td>\n",
       "      <td>-37.85927</td>\n",
       "      <td>144.87904</td>\n",
       "      <td>6.0</td>\n",
       "      <td>6380.0</td>\n",
       "    </tr>\n",
       "    <tr>\n",
       "      <th>13577</th>\n",
       "      <td>305.0</td>\n",
       "      <td>12745.0</td>\n",
       "      <td>3</td>\n",
       "      <td>0.0</td>\n",
       "      <td>1170000.0</td>\n",
       "      <td>1.0</td>\n",
       "      <td>194.0</td>\n",
       "      <td>33.0</td>\n",
       "      <td>6.8</td>\n",
       "      <td>3016.0</td>\n",
       "      <td>...</td>\n",
       "      <td>2.0</td>\n",
       "      <td>4.0</td>\n",
       "      <td>436.0</td>\n",
       "      <td>151.96765</td>\n",
       "      <td>1997.000000</td>\n",
       "      <td>23.0</td>\n",
       "      <td>-37.85274</td>\n",
       "      <td>144.88738</td>\n",
       "      <td>6.0</td>\n",
       "      <td>6380.0</td>\n",
       "    </tr>\n",
       "    <tr>\n",
       "      <th>13578</th>\n",
       "      <td>305.0</td>\n",
       "      <td>13311.0</td>\n",
       "      <td>4</td>\n",
       "      <td>0.0</td>\n",
       "      <td>2500000.0</td>\n",
       "      <td>0.0</td>\n",
       "      <td>222.0</td>\n",
       "      <td>33.0</td>\n",
       "      <td>6.8</td>\n",
       "      <td>3016.0</td>\n",
       "      <td>...</td>\n",
       "      <td>1.0</td>\n",
       "      <td>5.0</td>\n",
       "      <td>866.0</td>\n",
       "      <td>157.00000</td>\n",
       "      <td>1920.000000</td>\n",
       "      <td>23.0</td>\n",
       "      <td>-37.85908</td>\n",
       "      <td>144.89299</td>\n",
       "      <td>6.0</td>\n",
       "      <td>6380.0</td>\n",
       "    </tr>\n",
       "    <tr>\n",
       "      <th>13579</th>\n",
       "      <td>313.0</td>\n",
       "      <td>10776.0</td>\n",
       "      <td>4</td>\n",
       "      <td>0.0</td>\n",
       "      <td>1285000.0</td>\n",
       "      <td>3.0</td>\n",
       "      <td>239.0</td>\n",
       "      <td>33.0</td>\n",
       "      <td>6.3</td>\n",
       "      <td>3013.0</td>\n",
       "      <td>...</td>\n",
       "      <td>1.0</td>\n",
       "      <td>1.0</td>\n",
       "      <td>362.0</td>\n",
       "      <td>112.00000</td>\n",
       "      <td>1920.000000</td>\n",
       "      <td>23.0</td>\n",
       "      <td>-37.81188</td>\n",
       "      <td>144.88449</td>\n",
       "      <td>6.0</td>\n",
       "      <td>6543.0</td>\n",
       "    </tr>\n",
       "  </tbody>\n",
       "</table>\n",
       "<p>13580 rows × 21 columns</p>\n",
       "</div>"
      ],
      "text/plain": [
       "       Suburb  Address  Rooms  Type      Price  Method  SellerG  Date  \\\n",
       "0         0.0  12794.0      2   0.0  1480000.0     1.0     23.0  45.0   \n",
       "1         0.0   5943.0      2   0.0  1035000.0     1.0     23.0  47.0   \n",
       "2         0.0   9814.0      3   0.0  1465000.0     3.0     23.0  48.0   \n",
       "3         0.0   9004.0      3   0.0   850000.0     0.0     23.0  48.0   \n",
       "4         0.0  10589.0      4   0.0  1600000.0     4.0    155.0  49.0   \n",
       "...       ...      ...    ...   ...        ...     ...      ...   ...   \n",
       "13575   302.0   1991.0      4   0.0  1245000.0     1.0     16.0  33.0   \n",
       "13576   305.0  12234.0      3   0.0  1031000.0     3.0    251.0  33.0   \n",
       "13577   305.0  12745.0      3   0.0  1170000.0     1.0    194.0  33.0   \n",
       "13578   305.0  13311.0      4   0.0  2500000.0     0.0    222.0  33.0   \n",
       "13579   313.0  10776.0      4   0.0  1285000.0     3.0    239.0  33.0   \n",
       "\n",
       "       Distance  Postcode  ...  Bathroom  Car  Landsize  BuildingArea  \\\n",
       "0           2.5    3067.0  ...       1.0  1.0     202.0     151.96765   \n",
       "1           2.5    3067.0  ...       1.0  0.0     156.0      79.00000   \n",
       "2           2.5    3067.0  ...       2.0  0.0     134.0     150.00000   \n",
       "3           2.5    3067.0  ...       2.0  1.0      94.0     151.96765   \n",
       "4           2.5    3067.0  ...       1.0  2.0     120.0     142.00000   \n",
       "...         ...       ...  ...       ...  ...       ...           ...   \n",
       "13575      16.7    3150.0  ...       2.0  2.0     652.0     151.96765   \n",
       "13576       6.8    3016.0  ...       2.0  2.0     333.0     133.00000   \n",
       "13577       6.8    3016.0  ...       2.0  4.0     436.0     151.96765   \n",
       "13578       6.8    3016.0  ...       1.0  5.0     866.0     157.00000   \n",
       "13579       6.3    3013.0  ...       1.0  1.0     362.0     112.00000   \n",
       "\n",
       "         YearBuilt  CouncilArea  Lattitude  Longtitude  Regionname  \\\n",
       "0      1964.684217         31.0  -37.79960   144.99840         2.0   \n",
       "1      1900.000000         31.0  -37.80790   144.99340         2.0   \n",
       "2      1900.000000         31.0  -37.80930   144.99440         2.0   \n",
       "3      1964.684217         31.0  -37.79690   144.99690         2.0   \n",
       "4      2014.000000         31.0  -37.80720   144.99410         2.0   \n",
       "...            ...          ...        ...         ...         ...   \n",
       "13575  1981.000000         23.0  -37.90562   145.16761         4.0   \n",
       "13576  1995.000000         23.0  -37.85927   144.87904         6.0   \n",
       "13577  1997.000000         23.0  -37.85274   144.88738         6.0   \n",
       "13578  1920.000000         23.0  -37.85908   144.89299         6.0   \n",
       "13579  1920.000000         23.0  -37.81188   144.88449         6.0   \n",
       "\n",
       "       Propertycount  \n",
       "0             4019.0  \n",
       "1             4019.0  \n",
       "2             4019.0  \n",
       "3             4019.0  \n",
       "4             4019.0  \n",
       "...              ...  \n",
       "13575         7392.0  \n",
       "13576         6380.0  \n",
       "13577         6380.0  \n",
       "13578         6380.0  \n",
       "13579         6543.0  \n",
       "\n",
       "[13580 rows x 21 columns]"
      ]
     },
     "execution_count": 188,
     "metadata": {},
     "output_type": "execute_result"
    }
   ],
   "source": [
    "#encoding the categorical columns\n",
    "from sklearn.preprocessing import OrdinalEncoder\n",
    "encoder = OrdinalEncoder()\n",
    "df = df.copy()\n",
    "df[categorical_cols] = encoder.fit_transform(df[categorical_cols])\n",
    "df"
   ]
  },
  {
   "cell_type": "markdown",
   "id": "9a65f509",
   "metadata": {},
   "source": [
    "### Correlation"
   ]
  },
  {
   "cell_type": "code",
   "execution_count": 189,
   "id": "c53b6198",
   "metadata": {
    "scrolled": false
   },
   "outputs": [
    {
     "data": {
      "text/plain": [
       "<AxesSubplot:>"
      ]
     },
     "execution_count": 189,
     "metadata": {},
     "output_type": "execute_result"
    },
    {
     "data": {
      "image/png": "[encoded data removed]",
      "text/plain": [
       "<Figure size 1800x1800 with 2 Axes>"
      ]
     },
     "metadata": {},
     "output_type": "display_data"
    }
   ],
   "source": [
    "import seaborn as sns\n",
    "f, ax = plt.subplots(figsize=(18, 18))\n",
    "sns.heatmap(df[numerical_cols].corr(), annot=True)"
   ]
  },
  {
   "cell_type": "markdown",
   "id": "5c5bc19f",
   "metadata": {},
   "source": [
    "#### Observation\n"
   ]
  },
  {
   "cell_type": "markdown",
   "id": "fa62bab3",
   "metadata": {},
   "source": [
    "* Distance, postcode, latitude and longitude are related i choose rooms\n",
    "* Landsize and building area are correlated i choose landsize\n",
    "* Rooms, bedroom2 and bathroom are correlated i choose rooms"
   ]
  },
  {
   "cell_type": "code",
   "execution_count": 190,
   "id": "0a2c9c63",
   "metadata": {},
   "outputs": [
    {
     "data": {
      "text/html": [
       "<div>\n",
       "<style scoped>\n",
       "    .dataframe tbody tr th:only-of-type {\n",
       "        vertical-align: middle;\n",
       "    }\n",
       "\n",
       "    .dataframe tbody tr th {\n",
       "        vertical-align: top;\n",
       "    }\n",
       "\n",
       "    .dataframe thead th {\n",
       "        text-align: right;\n",
       "    }\n",
       "</style>\n",
       "<table border=\"1\" class=\"dataframe\">\n",
       "  <thead>\n",
       "    <tr style=\"text-align: right;\">\n",
       "      <th></th>\n",
       "      <th>Suburb</th>\n",
       "      <th>Address</th>\n",
       "      <th>Rooms</th>\n",
       "      <th>Type</th>\n",
       "      <th>Price</th>\n",
       "      <th>Method</th>\n",
       "      <th>SellerG</th>\n",
       "      <th>Date</th>\n",
       "      <th>Distance</th>\n",
       "      <th>Car</th>\n",
       "      <th>Landsize</th>\n",
       "      <th>YearBuilt</th>\n",
       "      <th>CouncilArea</th>\n",
       "      <th>Regionname</th>\n",
       "      <th>Propertycount</th>\n",
       "    </tr>\n",
       "  </thead>\n",
       "  <tbody>\n",
       "    <tr>\n",
       "      <th>0</th>\n",
       "      <td>0.0</td>\n",
       "      <td>12794.0</td>\n",
       "      <td>2</td>\n",
       "      <td>0.0</td>\n",
       "      <td>1480000.0</td>\n",
       "      <td>1.0</td>\n",
       "      <td>23.0</td>\n",
       "      <td>45.0</td>\n",
       "      <td>2.5</td>\n",
       "      <td>1.0</td>\n",
       "      <td>202.0</td>\n",
       "      <td>1964.684217</td>\n",
       "      <td>31.0</td>\n",
       "      <td>2.0</td>\n",
       "      <td>4019.0</td>\n",
       "    </tr>\n",
       "    <tr>\n",
       "      <th>1</th>\n",
       "      <td>0.0</td>\n",
       "      <td>5943.0</td>\n",
       "      <td>2</td>\n",
       "      <td>0.0</td>\n",
       "      <td>1035000.0</td>\n",
       "      <td>1.0</td>\n",
       "      <td>23.0</td>\n",
       "      <td>47.0</td>\n",
       "      <td>2.5</td>\n",
       "      <td>0.0</td>\n",
       "      <td>156.0</td>\n",
       "      <td>1900.000000</td>\n",
       "      <td>31.0</td>\n",
       "      <td>2.0</td>\n",
       "      <td>4019.0</td>\n",
       "    </tr>\n",
       "    <tr>\n",
       "      <th>2</th>\n",
       "      <td>0.0</td>\n",
       "      <td>9814.0</td>\n",
       "      <td>3</td>\n",
       "      <td>0.0</td>\n",
       "      <td>1465000.0</td>\n",
       "      <td>3.0</td>\n",
       "      <td>23.0</td>\n",
       "      <td>48.0</td>\n",
       "      <td>2.5</td>\n",
       "      <td>0.0</td>\n",
       "      <td>134.0</td>\n",
       "      <td>1900.000000</td>\n",
       "      <td>31.0</td>\n",
       "      <td>2.0</td>\n",
       "      <td>4019.0</td>\n",
       "    </tr>\n",
       "    <tr>\n",
       "      <th>3</th>\n",
       "      <td>0.0</td>\n",
       "      <td>9004.0</td>\n",
       "      <td>3</td>\n",
       "      <td>0.0</td>\n",
       "      <td>850000.0</td>\n",
       "      <td>0.0</td>\n",
       "      <td>23.0</td>\n",
       "      <td>48.0</td>\n",
       "      <td>2.5</td>\n",
       "      <td>1.0</td>\n",
       "      <td>94.0</td>\n",
       "      <td>1964.684217</td>\n",
       "      <td>31.0</td>\n",
       "      <td>2.0</td>\n",
       "      <td>4019.0</td>\n",
       "    </tr>\n",
       "    <tr>\n",
       "      <th>4</th>\n",
       "      <td>0.0</td>\n",
       "      <td>10589.0</td>\n",
       "      <td>4</td>\n",
       "      <td>0.0</td>\n",
       "      <td>1600000.0</td>\n",
       "      <td>4.0</td>\n",
       "      <td>155.0</td>\n",
       "      <td>49.0</td>\n",
       "      <td>2.5</td>\n",
       "      <td>2.0</td>\n",
       "      <td>120.0</td>\n",
       "      <td>2014.000000</td>\n",
       "      <td>31.0</td>\n",
       "      <td>2.0</td>\n",
       "      <td>4019.0</td>\n",
       "    </tr>\n",
       "  </tbody>\n",
       "</table>\n",
       "</div>"
      ],
      "text/plain": [
       "   Suburb  Address  Rooms  Type      Price  Method  SellerG  Date  Distance  \\\n",
       "0     0.0  12794.0      2   0.0  1480000.0     1.0     23.0  45.0       2.5   \n",
       "1     0.0   5943.0      2   0.0  1035000.0     1.0     23.0  47.0       2.5   \n",
       "2     0.0   9814.0      3   0.0  1465000.0     3.0     23.0  48.0       2.5   \n",
       "3     0.0   9004.0      3   0.0   850000.0     0.0     23.0  48.0       2.5   \n",
       "4     0.0  10589.0      4   0.0  1600000.0     4.0    155.0  49.0       2.5   \n",
       "\n",
       "   Car  Landsize    YearBuilt  CouncilArea  Regionname  Propertycount  \n",
       "0  1.0     202.0  1964.684217         31.0         2.0         4019.0  \n",
       "1  0.0     156.0  1900.000000         31.0         2.0         4019.0  \n",
       "2  0.0     134.0  1900.000000         31.0         2.0         4019.0  \n",
       "3  1.0      94.0  1964.684217         31.0         2.0         4019.0  \n",
       "4  2.0     120.0  2014.000000         31.0         2.0         4019.0  "
      ]
     },
     "execution_count": 190,
     "metadata": {},
     "output_type": "execute_result"
    }
   ],
   "source": [
    "correlation_drop_list = ['Bedroom2', 'Bathroom', 'Postcode', 'Lattitude', 'Longtitude', 'BuildingArea']\n",
    "df_correlation = df.drop(correlation_drop_list, axis=1)\n",
    "df_correlation.head()"
   ]
  },
  {
   "cell_type": "markdown",
   "id": "db607881",
   "metadata": {},
   "source": [
    "### Chi Square"
   ]
  },
  {
   "cell_type": "code",
   "execution_count": 191,
   "id": "aad05489",
   "metadata": {},
   "outputs": [],
   "source": [
    "from sklearn.feature_selection import chi2, SelectKBest"
   ]
  },
  {
   "cell_type": "code",
   "execution_count": 193,
   "id": "c5f43b93",
   "metadata": {},
   "outputs": [],
   "source": [
    "from sklearn.preprocessing import MinMaxScaler\n",
    "df['Lattitude'] = MinMaxScaler().fit_transform(np.array(df.Lattitude).reshape(-1,1))"
   ]
  },
  {
   "cell_type": "code",
   "execution_count": 194,
   "id": "4fb66a2d",
   "metadata": {},
   "outputs": [
    {
     "name": "stdout",
     "output_type": "stream",
     "text": [
      "Rooms: 1839.2552913573786\n",
      "Distance: 8997.199124944656\n",
      "Postcode: 6973.141307428992\n",
      "Bedroom2: 1776.2486698025589\n",
      "Bathroom: 1535.3204904498764\n",
      "Car: 1726.0815029672874\n",
      "Landsize: 38379656.38854402\n",
      "BuildingArea: 1472618.8744421068\n",
      "YearBuilt: 1412.7342545304684\n",
      "Lattitude: 60.783071726530565\n",
      "Longtitude: 0.22241941713033744\n",
      "Propertycount: 5533700.8327184385\n"
     ]
    }
   ],
   "source": [
    "chi2_selector = SelectKBest(score_func=chi2, k='all')\n",
    "X = df[numerical_cols].drop('Price', axis=1)\n",
    "chi2_data = chi2_selector.fit_transform(X, df.Price)\n",
    "for i in range(len(X.columns)):\n",
    "    print(f\"{df[numerical_cols].drop('Price', axis=1).columns[i]}: {chi2_selector.scores_[i]}\")"
   ]
  },
  {
   "cell_type": "markdown",
   "id": "b98bae9e",
   "metadata": {},
   "source": [
    "### Mutual information"
   ]
  },
  {
   "cell_type": "code",
   "execution_count": 195,
   "id": "9f140c60",
   "metadata": {},
   "outputs": [],
   "source": [
    "from sklearn.feature_selection import mutual_info_regression"
   ]
  },
  {
   "cell_type": "code",
   "execution_count": 196,
   "id": "e2435af2",
   "metadata": {},
   "outputs": [],
   "source": [
    "mutual_info_sc = mutual_info_regression(df[numerical_cols].drop('Price', axis=1), df.Price)"
   ]
  },
  {
   "cell_type": "code",
   "execution_count": 199,
   "id": "aadf3f32",
   "metadata": {},
   "outputs": [
    {
     "name": "stdout",
     "output_type": "stream",
     "text": [
      "Rooms: 0.22094657754287095\n",
      "Distance: 0.20801536419698863\n",
      "Postcode: 0.31549165289463676\n",
      "Bedroom2: 0.2091414286744988\n",
      "Bathroom: 0.1324505028214884\n",
      "Car: 0.08502962681792203\n",
      "Landsize: 0.1432048686296663\n",
      "BuildingArea: 0.19695448687289385\n",
      "YearBuilt: 0.09694790315999846\n",
      "Lattitude: 0.14792645235928514\n",
      "Longtitude: 0.154351370898981\n",
      "Propertycount: 0.20346261077500216\n"
     ]
    }
   ],
   "source": [
    "# selection among the numerical columns alone\n",
    "mutual_info_selector = SelectKBest(score_func=mutual_info_regression, k='all')\n",
    "X = df[numerical_cols].drop('Price', axis=1)\n",
    "mutual_info_data = mutual_info_selector.fit_transform(X, df.Price)\n",
    "for i in range(len(X.columns)):\n",
    "    print(f\"{df[numerical_cols].drop('Price', axis=1).columns[i]}: {mutual_info_selector.scores_[i]}\")"
   ]
  },
  {
   "cell_type": "markdown",
   "id": "ae5427a8",
   "metadata": {},
   "source": [
    "#### Random Forest"
   ]
  },
  {
   "cell_type": "code",
   "execution_count": 202,
   "id": "17771a41",
   "metadata": {},
   "outputs": [
    {
     "name": "stdout",
     "output_type": "stream",
     "text": [
      "[0.22920112 0.21603208 0.14948276 0.00472542 0.02294297 0.01395178\n",
      " 0.12309107 0.05409358 0.03712506 0.05644487 0.07288711 0.02002219]\n"
     ]
    }
   ],
   "source": [
    "from sklearn.ensemble import RandomForestRegressor\n",
    "f = RandomForestRegressor(n_estimators=20, random_state=17)\n",
    "rf = f.fit(df[numerical_cols].drop('Price', axis=1), df.Price)\n",
    "rf_feat_importances = rf.feature_importances_\n",
    "print(rf_feat_importances)"
   ]
  },
  {
   "cell_type": "markdown",
   "id": "420130c1",
   "metadata": {},
   "source": [
    "#### Visualizing features"
   ]
  },
  {
   "cell_type": "code",
   "execution_count": 203,
   "id": "bdebcd18",
   "metadata": {},
   "outputs": [
    {
     "data": {
      "image/png": "[encoded data removed]",
      "text/plain": [
       "<Figure size 640x480 with 1 Axes>"
      ]
     },
     "metadata": {},
     "output_type": "display_data"
    },
    {
     "data": {
      "image/png": "[encoded data removed]",
      "text/plain": [
       "<Figure size 640x480 with 1 Axes>"
      ]
     },
     "metadata": {},
     "output_type": "display_data"
    },
    {
     "data": {
      "image/png": "[encoded data removed]",
      "text/plain": [
       "<Figure size 640x480 with 1 Axes>"
      ]
     },
     "metadata": {},
     "output_type": "display_data"
    }
   ],
   "source": [
    "def importances(method, importances):\n",
    "    feature_importances = pd.DataFrame(importances, index=df[numerical_cols].drop('Price', axis=1).columns, columns=[\"Importance\"])\n",
    "    feature_importances.sort_values(by='Importance', ascending=False, inplace=True)\n",
    "    feature_importances.plot(kind='bar')\n",
    "    plt.title(f\"Feature importance from {method} selection method\")\n",
    "    plt.show()\n",
    "    \n",
    "importances(\"Chi-square\", chi2_selector.scores_)\n",
    "importances(\"Mutual Information\", mutual_info_selector.scores_)\n",
    "importances(\"Random Forest\", rf_feat_importances)"
   ]
  },
  {
   "cell_type": "markdown",
   "id": "d97d4ad0",
   "metadata": {},
   "source": [
    "### Comments on results\n",
    "Top numerical features \n",
    "* Correlation - Rooms,Distance,Car,Landsize,YearBuilt,Propertycount\n",
    "* Chi-square: Landsize, Propertycount, BuildingArea\n",
    "* Mutual-Information: Postcode, Rooms,Bedroom2, Distance, Propertycount, BuildingArea, Longtitude, Lattitude\n",
    "* Random Forest chose: Rooms, Distance, Postcode, Landsize, Longtitude,BuildingArea,YearBuilt, Bathroom\n",
    "\n",
    "I choose Random forest as best option as Random forest shows better feature selection and importance order."
   ]
  },
  {
   "cell_type": "markdown",
   "id": "5c8213fb",
   "metadata": {},
   "source": [
    "I choose Chi square as worst option as it doesnt shows better feature selection and importance order for its top three features."
   ]
  },
  {
   "cell_type": "code",
   "execution_count": null,
   "id": "8db37351",
   "metadata": {},
   "outputs": [],
   "source": []
  }
 ],
 "metadata": {
  "kernelspec": {
   "display_name": "Python 3 (ipykernel)",
   "language": "python",
   "name": "python3"
  },
  "language_info": {
   "codemirror_mode": {
    "name": "ipython",
    "version": 3
   },
   "file_extension": ".py",
   "mimetype": "text/x-python",
   "name": "python",
   "nbconvert_exporter": "python",
   "pygments_lexer": "ipython3",
   "version": "3.9.13"
  }
 },
 "nbformat": 4,
 "nbformat_minor": 5
}
